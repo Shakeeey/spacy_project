{
 "cells": [
  {
   "cell_type": "code",
   "execution_count": 1,
   "metadata": {},
   "outputs": [],
   "source": [
    "import spacy\n",
    "from spacy import displacy\n",
    "from spacy.tokens import DocBin\n",
    "from tqdm.auto import tqdm\n",
    "import pandas as pd\n",
    "import os"
   ]
  },
  {
   "cell_type": "code",
   "execution_count": 2,
   "metadata": {},
   "outputs": [],
   "source": [
    "def make_docs(file_path):\n",
    "    \n",
    "    # Pre-processing/cleaning up file\n",
    "    \n",
    "    train_data = pd.read_csv(file_path)\n",
    "    train_data.dropna(axis=0, how='any', inplace=True)\n",
    "    train_data['Num_words_text'] = train_data['content'].apply(lambda x:len(str(x).split()))\n",
    "    mask = train_data['Num_words_text'] > 2\n",
    "    train_data = train_data[mask]\n",
    "    print(train_data['pred_ind'].value_counts())\n",
    "    \n",
    "    data = tuple(zip(train_data['content'].tolist(), train_data['pred_ind'].tolist()))\n",
    "    print(data[1])\n",
    "    \n",
    "    # Data Mapping\n",
    "    \n",
    "    labels_mapping = {\n",
    "        1: '01',\n",
    "        2: '02',\n",
    "        3: '03',\n",
    "        4: '04',\n",
    "        5: '05',\n",
    "        6: '06',\n",
    "        7: '07',\n",
    "        8: '08',\n",
    "        9: '09',\n",
    "        10: '10',\n",
    "        12: '12',\n",
    "        13: '13',\n",
    "        99: '99'\n",
    "    }\n",
    "    \n",
    "    docs = []\n",
    "    nlp = spacy.load(\"en_core_web_md\") # Choose your model\n",
    "    \n",
    "    for doc, label in tqdm(nlp.pipe(data, as_tuples=True), total=len(data)):\n",
    "        doc.cats.clear()\n",
    "        if label in labels_mapping:\n",
    "            doc.cats[labels_mapping[label]] = 1\n",
    "        else:\n",
    "            doc.cats['Other'] = 1\n",
    "        docs.append(doc)\n",
    "        \n",
    "    return docs, train_data"
   ]
  },
  {
   "cell_type": "code",
   "execution_count": 3,
   "metadata": {},
   "outputs": [
    {
     "name": "stdout",
     "output_type": "stream",
     "text": [
      "3     4381\n",
      "9     3548\n",
      "10    3478\n",
      "8     3431\n",
      "1     3353\n",
      "6     3320\n",
      "5     3258\n",
      "12    3199\n",
      "13    2885\n",
      "7     2743\n",
      "4     2686\n",
      "2     2462\n",
      "99     830\n",
      "Name: pred_ind, dtype: int64\n",
      "('As President Biden met with Saudi Arabian leaders to discuss his request to increase oil production and lower U.S. gasoline prices on Friday, global prices rose while those back in the states dropped.    Global benchmark Brent crude for September delivery rose $2.06 and closed back up over $100 at $101.16 a barrel on ICE Futures Europe.    In the U.S., West Texas Intermediate crude for August delivery dropped $1.81 to $97.59 a barrel on the New York Mercantile Exchange.    U.S. prices had risen earlier in the day but finished with the loss as analysts contend the concern over an anticipated interest rate hike by the Federal Reserve in two week lessened.    There remains worry the world economy is heading into a recession as steep interest rates are not only expected in the U.S. but in Canada, New Zealand, Chile, South Korea and the Philippines.    August natural gas rose 42 cents to $7.02 per 1,000 cubic feet.    Gains were the order of the day for Oklahoma energy stocks including Chesapeake Energy with a more than 5 % increase for the day, LSB Industries at 6 % and Sand Ridge Energy at nearly 4 %.    Alliance Resource Partners,    L.P. Blueknight Energy Partners LP Common Stock Chesapeake Energy Ord Shs Continental Resources,    Inc. Empire Petroleum Corporation Magellan Midstream Partners,    L.P. Mammoth Energy Services Inc    Other energy stocks were up too, including Valero with a nearly 4 % gain according to the Texas Energy Report.    0.44at20.85 change 2.18 % National Oilwell Varco(NOV)up 0.10at14.20    1.48at58.71 change 2.58 % Phillips    Pioneer Natural Resources(PXD)up 3.01at208.45 change 1.46 % Tellurian Inc.(TELL)up    change 3.78 % CLOSING TOP UTILITY STOCKS American Electric Power(AEP)up', 2)\n"
     ]
    },
    {
     "data": {
      "application/vnd.jupyter.widget-view+json": {
       "model_id": "6e89a4aa53ea46c19275252c85bbb5c4",
       "version_major": 2,
       "version_minor": 0
      },
      "text/plain": [
       "  0%|          | 0/39574 [00:00<?, ?it/s]"
      ]
     },
     "metadata": {},
     "output_type": "display_data"
    },
    {
     "name": "stdout",
     "output_type": "stream",
     "text": [
      "3     785\n",
      "10    623\n",
      "9     612\n",
      "5     595\n",
      "1     577\n",
      "8     576\n",
      "6     576\n",
      "13    550\n",
      "12    545\n",
      "4     489\n",
      "7     476\n",
      "2     433\n",
      "99    143\n",
      "Name: pred_ind, dtype: int64\n",
      "('By Christina L. Meyers and Jeffrey Collins, Associated Press COLUMBIA, South Carolina Ã¢â‚¬â€\\x9d South Carolinaâ€™s state-owned utility paid $9 million in performance bonuses to executives of a private utility for two nuclear reactors that were never finished, according to the public utility and emails turned over to state and federal investigators. SCANA Corp. even billed taxpayer-supported Santee Cooper $3.2 million for bonuses in August, a month after the utilities abandoned 10 years of construction and planning for the reactors, according to the emails released by Gov. Henry Mc Masterâ€™s office on Wednesday. Santee Cooper refused to pay, utility spokeswoman Mollie Gore said. â€œI will not approve this invoice,â€\\x9d Senior Vice President for Nuclear Energy Michael Crosby wrote in one email. â€œI may get over-ridden â€¦ but if SCANA cares to push this â€¦ CFOs & CEOs will need to get involved.â€\\x9d Crosby also suggested letting SCANA CEO Jimmy Addison know his company was still seeking performance bonuses after the reactors were abandoned and suggested that other executives â€œman-up and ask if he wants to push this,â€\\x9d according to the emails. Some Santee Cooper executives did not want to pay any of the bonuses, but former CEO Lonnie Cooper decided the public utility should pay 45 percent of the bonuses because it owned 45 percent of the reactors, Gore said. Mc Master obtained the emails and invoices from Santee Cooper after asking the public utility to send his office any documents they were sharing with state and federal investigators, Mc Master spokesman Brian Symmes said. The invoices indicated at least $5 million of bonuses paid to SCANA executives, but Gore said Santee Cooperâ€™s records showed the public utility paid $8.9 million to the executives at the private firm. The governor also sent the emails to legislative leaders, asking senators to confirm his nominee to run the Santee Cooper board as soon as possible. â€œSantee Cooperâ€™s customers, including individuals and the electric cooperatives of our state, deserve to know how their hard-earned money is being spent by the utility, and now, we know that much of it was going to pay SCANA executivesâ€™ bonuses related to the failed reactors,â€\\x9d Symmes said in a statement. Santee Cooper is $8 billion in debt after the abandoning of the reactors. Also on Wednesday, South Carolina lawmakers made a last-minute push to pass several bills to give ratepayers temporary relief and pass regulations to prevent anything like this from happening again. A committee of House members and senators could not reach a compromise on how much to cut a charge that customers of South Carolina Electric & Gas Ã¢â‚¬â€\\x9d a SCANA subsidiary Ã¢â‚¬â€\\x9d pay for the abandoned reactors. The House wants to cut the entire 18 percent charge until the Public Service Commission can reset rates at the end of the year. The Senate wants a 13 percent cut. They said they would continue talks later. The Senate tentatively approved repealing the Base Load Review Act which allowed utilities to charge ratepayers for the nuclear plants before they ever generated a watt of power. Nine different rate increases were passed during the 10 years of planning and construction on the reactors. â€œThis is an important reform to give public assurance weâ€™re not going to have to deal with this again,â€\\x9d said Senate Majority Leader Shane Massey of Edgefield. The bill will face a final key vote Thursday on the last official day of the 2018 session, but the House and Senate may take up other bills about the failed reactors in special sessions in May and June. One of those bills could be a proposal that passed a Senate subcommittee Wednesday requiring SCANA and Santee Cooper to preserve equipment for the failed reactors still at the V.C. Summer site in Fairfield County. Supporters said that equipment can be sold and the proceeds given back to customers. The utilities will never get back the $1.6 billion value of the equipment, but at least ratepayers would be responsible for less debt, said Democratic Sen. Mike Fanning, whose district includes the failed reactors. â€œIf weâ€™ve got $9.5 billion (in debt) out there and some senators saying weâ€™re going to get that rate reduction relief and the only way to do it is get those assets back,â€\\x9d Fanning said. Also on Wednesday, the Senate passed a bill allowing the consumer advocate at the state Department of Consumer Affairs to work on behalf of ratepayers before regulators.', 1)\n"
     ]
    },
    {
     "data": {
      "application/vnd.jupyter.widget-view+json": {
       "model_id": "a16cbebd91904d80853d95edd8861b9c",
       "version_major": 2,
       "version_minor": 0
      },
      "text/plain": [
       "  0%|          | 0/6980 [00:00<?, ?it/s]"
      ]
     },
     "metadata": {},
     "output_type": "display_data"
    }
   ],
   "source": [
    "'''\n",
    "# Load and process each training chunk separately\n",
    "train_chunk_paths = [\n",
    "    'test_textcat_project/textcat_data/training_data_chunk1.csv',\n",
    "    'test_textcat_project/textcat_data/training_data_chunk2.csv',\n",
    "    'test_textcat_project/textcat_data/training_data_chunk3.csv'\n",
    "]\n",
    "train_chunk_output_dir = 'test_textcat_project/textcat_data/train_chunks'\n",
    "os.makedirs(train_chunk_output_dir, exist_ok=True)\n",
    "\n",
    "for i, chunk_path in enumerate(train_chunk_paths):\n",
    "    chunk_docs, _ = make_docs(chunk_path)\n",
    "\n",
    "    # Save the training chunk as a separate .spacy file\n",
    "    train_chunk_doc_bin = DocBin(docs=chunk_docs)\n",
    "    chunk_output_path = os.path.join(train_chunk_output_dir, f'textcat_train_{i}.spacy')\n",
    "    train_chunk_doc_bin.to_disk(chunk_output_path)\n",
    "'''\n",
    "\n",
    "# Load and process the train data\n",
    "train_docs, train_data = make_docs('test_textcat_project/textcat_data/training_data.csv')\n",
    "\n",
    "# Save the train documents as a .spacy file\n",
    "train_doc_bin = DocBin(docs=train_docs)\n",
    "train_doc_bin.to_disk(\"test_textcat_project/textcat_data/textcat_train.spacy\")\n",
    "\n",
    "# Load and process the test data\n",
    "test_docs, test_data = make_docs('test_textcat_project/textcat_data/test_data.csv')\n",
    "\n",
    "# Save the test documents as a .spacy file\n",
    "test_doc_bin = DocBin(docs=test_docs)\n",
    "test_doc_bin.to_disk(\"test_textcat_project/textcat_data/textcat_test.spacy\")"
   ]
  },
  {
   "cell_type": "code",
   "execution_count": 5,
   "metadata": {},
   "outputs": [],
   "source": [
    "#! python -m spacy init fill-config ./test_textcat_project/base_config_multi.cfg ./test_textcat_project/textcat_config_multi.cfg"
   ]
  },
  {
   "cell_type": "code",
   "execution_count": 4,
   "metadata": {},
   "outputs": [
    {
     "name": "stdout",
     "output_type": "stream",
     "text": [
      "ℹ Saving to output directory: test_textcat_project\n",
      "ℹ Using CPU\n",
      "\u001b[1m\n",
      "=========================== Initializing pipeline ===========================\u001b[0m\n",
      "✔ Initialized pipeline\n",
      "\u001b[1m\n",
      "============================= Training pipeline =============================\u001b[0m\n",
      "ℹ Pipeline: ['textcat']\n",
      "ℹ Initial learn rate: 0.001\n",
      "E    #       LOSS TEXTCAT  CATS_SCORE  SCORE \n",
      "---  ------  ------------  ----------  ------\n",
      "  0       0          0.07        1.17    0.01\n",
      "  0     200         13.54       33.12    0.33\n",
      "  0     400         11.37       33.39    0.33\n",
      "  0     600         10.79       44.68    0.45\n",
      "  0     800          9.89       53.77    0.54\n",
      "  0    1000          8.41       54.62    0.55\n",
      "  0    1200          6.80       59.24    0.59\n",
      "  0    1400         10.06       60.30    0.60\n",
      "  0    1600          7.69       60.77    0.61\n",
      "  0    1800          7.96       62.87    0.63\n",
      "  0    2000          8.21       64.68    0.65\n",
      "  0    2200          8.00       64.90    0.65\n",
      "  0    2400          8.30       62.64    0.63\n",
      "  0    2600          6.50       69.37    0.69\n",
      "  0    2800          7.96       64.84    0.65\n",
      "  0    3000          7.92       69.09    0.69\n",
      "  0    3200          8.04       69.10    0.69\n",
      "  0    3400          8.46       69.24    0.69\n",
      "  0    3600          5.61       71.41    0.71\n",
      "  0    3800          5.48       68.80    0.69\n",
      "  0    4000          9.03       72.13    0.72\n",
      "  0    4200          7.66       69.29    0.69\n",
      "  0    4400          8.22       74.16    0.74\n",
      "  0    4600          7.66       71.87    0.72\n",
      "  0    4800          7.40       69.58    0.70\n",
      "  0    5000          6.95       72.50    0.72\n",
      "  0    5200          6.72       72.84    0.73\n",
      "  0    5400          7.83       75.19    0.75\n",
      "  0    5600          6.12       74.65    0.75\n",
      "  0    5800          8.51       73.81    0.74\n",
      "  0    6000          6.73       75.37    0.75\n",
      "  0    6200          5.84       75.49    0.75\n",
      "  0    6400          5.50       76.13    0.76\n",
      "  0    6600          6.01       75.84    0.76\n",
      "  0    6800          5.64       77.08    0.77\n",
      "  0    7000          6.02       76.41    0.76\n",
      "  0    7200          5.56       76.49    0.76\n",
      "  0    7400          7.79       76.87    0.77\n",
      "  0    7600          6.40       76.38    0.76\n",
      "  0    7800          6.92       76.72    0.77\n",
      "  0    8000          6.62       73.98    0.74\n",
      "  0    8200          7.84       76.43    0.76\n",
      "  0    8400          6.70       77.21    0.77\n",
      "  0    8600          5.60       75.70    0.76\n",
      "  0    8800          7.16       77.65    0.78\n",
      "  0    9000          6.16       78.03    0.78\n",
      "  0    9200          6.87       76.23    0.76\n",
      "  0    9400          6.26       78.45    0.78\n",
      "  0    9600          5.22       76.97    0.77\n",
      "  0    9800          6.07       75.24    0.75\n",
      "  0   10000          6.76       77.13    0.77\n",
      "  0   10200          6.57       77.28    0.77\n",
      "  0   10400          6.10       76.79    0.77\n",
      "  0   10600          6.14       78.58    0.79\n",
      "  0   10800          5.35       78.48    0.78\n",
      "  0   11000          6.39       78.40    0.78\n",
      "  0   11200          7.18       78.83    0.79\n",
      "  0   11400          7.00       77.59    0.78\n",
      "  0   11600          7.25       77.77    0.78\n",
      "  0   11800          6.22       77.63    0.78\n",
      "  0   12000          4.93       77.97    0.78\n",
      "  0   12200          6.97       76.36    0.76\n",
      "  0   12400          7.42       78.85    0.79\n",
      "  0   12600          7.42       78.17    0.78\n",
      "  0   12800          7.06       77.90    0.78\n",
      "  0   13000          5.76       78.41    0.78\n",
      "  0   13200          6.98       76.43    0.76\n",
      "  0   13400          7.25       79.32    0.79\n",
      "  0   13600          7.44       76.95    0.77\n",
      "  0   13800          6.43       78.87    0.79\n",
      "  0   14000          6.79       77.74    0.78\n",
      "  0   14200          5.82       77.88    0.78\n",
      "  0   14400          6.13       78.46    0.78\n",
      "  0   14600          6.18       77.34    0.77\n",
      "  0   14800          6.86       78.01    0.78\n",
      "  0   15000          5.42       78.80    0.79\n",
      "✔ Saved pipeline to output directory\n",
      "test_textcat_project\\model-last\n"
     ]
    },
    {
     "name": "stderr",
     "output_type": "stream",
     "text": [
      "[2023-07-10 14:46:58,394] [INFO] Set up nlp object from config\n",
      "[2023-07-10 14:46:58,408] [INFO] Pipeline: ['textcat']\n",
      "[2023-07-10 14:46:58,411] [INFO] Created vocabulary\n",
      "[2023-07-10 14:46:58,412] [INFO] Finished initializing nlp object\n",
      "[2023-07-10 14:50:26,794] [INFO] Initialized pipeline components: ['textcat']\n"
     ]
    }
   ],
   "source": [
    "! python -m spacy train test_textcat_project/textcat_config.cfg --output ./test_textcat_project --paths.train test_textcat_project/textcat_data/textcat_train.spacy --paths.dev test_textcat_project/textcat_data/textcat_test.spacy"
   ]
  },
  {
   "cell_type": "code",
   "execution_count": 8,
   "metadata": {},
   "outputs": [
    {
     "name": "stdout",
     "output_type": "stream",
     "text": [
      "Text: Drilling at Mt Dimer has been extremely limited, with only four drill-holes completed in the last 25 years.     () (FRA: U9V) has appointed Ausdrill to undertake a reverse circulation (RC) drilling campaign at the Mt Dimer Mining Lease in Western Australia, to test below and along strike of the existing open pit, clearing the way for drilling to start by mid-February 2021.        This maiden RC drilling campaign is designed to take two to three weeks, comprising 15 to 25 holes for up to 3,300 metres.        Work at Mt Dimer hasbeen extremely limited, with only four drill-holes completed in the last 25 years.      Drilling will focus on confirming and extending gold mineralisation, targeting priority areas around historical intercepts comprising: 5 metres at 10.64 g / t gold;   6 metres at 13.3 g / t; and   19 metres at 3.4 g / t.      TSCs newly appointed CEO Simon Phillips said: With a drilling contractor now officially appointed for the Mt Dimer Mining Lease, our logistics team is working hard to ensure everything is ready for work to commence in a timely manner.        Furthermore, with the gold price still around A $2,400/ounces, we are excited to be commencing a drilling campaign on a granted mining lease with known mineralisation apparent.        TSCs core objective with this first drilling campaign at Mt Dimer is to confirm and extend known gold mineralisation at depth and along strike.        Mt Dimer Gold Project        Mt Dimer Gold Project comprises a mining lease (M77/515) and exploration license (E77/2383),around 100 kilometres north-east of Southern Cross .        The project comprises a historical open pit mine that produced around 8,500 ounces gold in the mid-1990s, to a depth of only 50 metres from the surface.        Starting of RC drilling campaign;   First assay results from Mt Dimer;   Completion of initial drilling campaign;   Progressive release of remaining assay results; and   Modelling of drilling data and planning for further activities.\n",
      "Orig Cat: 12\n",
      "Predicted Cats:\n",
      "08: 1.0\n",
      "04: 1.171556740509061e-10\n",
      "07: 7.034271507833957e-15\n",
      "12: 1.4863906741381465e-15\n",
      "02: 3.4293796465705256e-16\n",
      "03: 5.0594452535969185e-17\n",
      "06: 1.1378339991435438e-17\n",
      "01: 3.122351627168707e-18\n",
      "13: 1.3491710769482375e-18\n",
      "99: 1.0379830421687977e-18\n",
      "09: 1.269387878355667e-19\n",
      "10: 3.1651833898691107e-21\n",
      "05: 2.9980272729060847e-21\n"
     ]
    }
   ],
   "source": [
    "nlp_textcat = spacy.load('test_textcat_project/model-best')\n",
    "test_texts = test_data['content'].tolist()\n",
    "test_cats = test_data['pred_ind'].tolist()\n",
    "test_src = test_data['src']\n",
    "\n",
    "# Output's scores from highest to lowest\n",
    "\n",
    "def sorted_cats(doc):\n",
    "    sorted_cats = sorted(doc.cats.items(), key=lambda x: x[1], reverse=True)\n",
    "    for cat, value in sorted_cats:\n",
    "        print(f\"{cat}: {value}\")\n",
    "\n",
    "article_index = 6201 # Index of the Article from test.csv\n",
    "doc2 = nlp_textcat(test_texts[article_index])\n",
    "print(\"Text: \" + test_texts[article_index])\n",
    "print(\"Orig Cat: \" + str(test_cats[article_index]))\n",
    "print(\"Predicted Cats:\")\n",
    "sorted_cats(doc2)\n"
   ]
  },
  {
   "cell_type": "code",
   "execution_count": 6,
   "metadata": {},
   "outputs": [],
   "source": [
    "def sorted_cats(doc):\n",
    "    sorted_cats = sorted(doc.cats.items(), key=lambda x: x[1], reverse=True)\n",
    "    return sorted_cats\n",
    "\n",
    "# Generate predicted labels and scores\n",
    "predicted_labels = []\n",
    "predicted_scores = []\n",
    "\n",
    "for text in test_texts:\n",
    "    doc = nlp_textcat(text)\n",
    "    sorted_categories = sorted_cats(doc)\n",
    "    labels = []\n",
    "    scores = []\n",
    "    for i, (label, score) in enumerate(sorted_categories):\n",
    "        labels.append(label)\n",
    "        scores.append(score)\n",
    "    labels.extend([None] * (13 - len(labels)))\n",
    "    scores.extend([None] * (13 - len(scores)))\n",
    "    predicted_labels.append(labels)\n",
    "    predicted_scores.append(scores)\n",
    "\n",
    "# Create a new DataFrame with predicted labels and scores\n",
    "results_data = test_data.copy()\n",
    "results_data[['predicted_label_{}'.format(i) for i in range(1, 14)]] = pd.DataFrame(predicted_labels)\n",
    "results_data[['predicted_score_{}'.format(i) for i in range(1, 14)]] = pd.DataFrame(predicted_scores)\n",
    "\n",
    "# Remove the \"Num_words_text\" column\n",
    "results_data.drop(\"Num_words_text\", axis=1, inplace=True)\n",
    "\n",
    "# Save the results to a new CSV file, with separate columns for label and score\n",
    "results_data.to_csv('test_textcat_project/textcat_data/textcat_results.csv', index=False)"
   ]
  }
 ],
 "metadata": {
  "kernelspec": {
   "display_name": "Python 3",
   "language": "python",
   "name": "python3"
  },
  "language_info": {
   "codemirror_mode": {
    "name": "ipython",
    "version": 3
   },
   "file_extension": ".py",
   "mimetype": "text/x-python",
   "name": "python",
   "nbconvert_exporter": "python",
   "pygments_lexer": "ipython3",
   "version": "3.10.11"
  },
  "orig_nbformat": 4
 },
 "nbformat": 4,
 "nbformat_minor": 2
}
