{
 "cells": [
  {
   "cell_type": "code",
   "execution_count": 1,
   "metadata": {},
   "outputs": [],
   "source": [
    "import spacy\n",
    "from spacy import displacy\n",
    "from spacy.tokens import DocBin\n",
    "from tqdm.auto import tqdm\n",
    "import pandas as pd"
   ]
  },
  {
   "cell_type": "code",
   "execution_count": 69,
   "metadata": {},
   "outputs": [],
   "source": [
    "def make_docs(file_path):\n",
    "    train_data = pd.read_csv(file_path)\n",
    "    train_data.dropna(axis=0, how='any', inplace=True)\n",
    "    train_data['Num_words_text'] = train_data['content'].apply(lambda x: len(str(x).split()))\n",
    "    mask = train_data['Num_words_text'] > 2\n",
    "    train_data = train_data[mask]\n",
    "    print(train_data['pred_ind'].value_counts())\n",
    "\n",
    "    data = []\n",
    "    for text, label in zip(train_data['content'].tolist(), train_data['pred_ind'].tolist()):\n",
    "        label_dict = {\n",
    "            '10': 1 if str(label) == '10' else 0,\n",
    "            '13': 1 if str(label) == '13' else 0,\n",
    "            '8': 1 if str(label) == '8' else 0,\n",
    "            '12': 1 if str(label) == '12' else 0\n",
    "        }\n",
    "        data.append((text, label_dict))\n",
    "    \n",
    "    print(data[1])\n",
    "    \n",
    "    docs = []\n",
    "    nlp = spacy.load(\"en_core_web_trf\")\n",
    "\n",
    "    label_mapping = {\n",
    "        '10': {'10': 1, '13': 0, '8': 0, '12': 0},\n",
    "        '8': {'10': 0, '13': 0, '8': 1, '12': 0},\n",
    "        '13': {'10': 0, '13': 1, '8': 0, '12': 0},\n",
    "        '12': {'10': 0, '13': 0, '8': 0, '12': 1},\n",
    "    }\n",
    "\n",
    "    for text, label_dict in tqdm(data, total=len(data)):\n",
    "        doc = nlp(text)\n",
    "        label = label_dict.get('pred_ind')\n",
    "        if label:\n",
    "            doc.cats = label_mapping.get(label, {'10': 0, '13': 0, '8': 0, '12': 0})\n",
    "        else:\n",
    "            doc.cats = {'10': 0, '13': 0, '8': 0, '12': 0}\n",
    "        docs.append(doc)\n",
    "\n",
    "    return docs, train_data\n"
   ]
  },
  {
   "cell_type": "code",
   "execution_count": 72,
   "metadata": {},
   "outputs": [
    {
     "name": "stdout",
     "output_type": "stream",
     "text": [
      "8     20\n",
      "12    16\n",
      "10    10\n",
      "13     4\n",
      "Name: pred_ind, dtype: int64\n",
      "('Emulsifiers and stabilisers are used in ice cream manufacturing. Palsgaard inaugurated the new emulsifier plant in Malaysia in August 2013. Image courtesy of Palsgaard. The new plant, fully owned and operated by Palsgaard, is located in Johor, Malaysia. Image courtesy of TUBS. Palsgaard, a Danish company, inaugurated a new emulsifier manufacturing plant in Malaysia in August 2013. The new plant is located in Nusajaya city in the state of Johor. The new plant is fully owned and operated by Palsgaard. Palsgaardâ€™s emulsifiers are used in industrial bakery and cake mixes, fine foods, chocolates and confectionery, sauces, ketchups, margarine and shortenings, dairy, ice creams and meat products. The company invested $8.2m in a Regional Application Centre in Singapore for dairy, ice cream, soya, bakery and confectionery applications. It is also planning to make further investments in Asia to grow the market for its products. The new emulsifier plant is located on an area of about 7,300mÃ‚Â². The site also includes a manufacturing plant equipped with advanced technologies, a research and development facility, a laboratory, a warehouse and an administration centre. The plant produces single emulsifiers as well as a variety of emulsifier and stabiliser blends. The installed capacity of the plant is 20,000t of emulsifiers per year. The cooperative chose the Nusajaya location because the area is a rich source of raw materials, such as palm oil and its derivatives. The area also has well developed infrastructure and easy access to the harbour and Palsgaard Singaporeâ€™s Innovation Centre. The facility produces high quality food emulsifiers. The range of emulsifiers includes distilled monoglycerides (DMG), sodium stearoyl-2-lactylate (SSL), propylene glycerol esters of fatty acids (PGMS) and mono and di-glycerides (MDG). Construction of the new plant was commenced with the official ground breaking ceremony in June 2012. The company invested $36m for the construction of the facility. The new facility is highly automated with integrated energy saving functionalities. Its design is based on modern standards. Advanced technology is implemented at the plant in order to improve production, energy consumption and environmental influence. Palsgaardâ€™s range of emulsifiers for chocolate and confectionary includes Polyglycerol Polyricinoleate (PGPR), Ammonium Phosphatide (YN), citric acid esters (CITREM), oil binders and crystal promoters. The company also offers emulsifiers and stabilisers that are ready to use and developed specially for milk-based products. The stabiliser blends are processed either as pure dry blends or fully integrated compounds. The products are manufactured on state-of-the-art process lines. The company provides a variety of emulsifiers for margarine and shortenings. The offered range in this segment varies from pure emulsifiers to special emulsifiers using different standard combinations. Palsgaard produces integrated blends of emulsifiers and stabilisers for dairy, ice cream and soya milk manufacturers. It employs about 330 people and has a presence in more than ten countries globally. It is an ISO 9001 and ISO 22000 certified company and follows the Hazard Analysis and Critical Control Points (HACCP) measures for food safety and biological and chemical hazard prevention. The company aims to reduce its CO2 emissions to zero by 2020 at all its factories around the world. Dairy Farmers of America (DFA) started construction of a new manufacturing facility for dairy ingredients in April 2012. NestlÃƒÂ© Wagner opened a new frozen pizza manufacturing facility at Wagnerâ€™s plant in Nonnweiler, Otzenhausen, Germany, in August 2013. In this report, we look at the 30 big tech themes for 2019, identifying winners and losers for each theme. This report will impact all industries helping:', {'10': 1, '13': 0, '8': 0, '12': 0})\n"
     ]
    },
    {
     "data": {
      "application/vnd.jupyter.widget-view+json": {
       "model_id": "8d00784b34b142989faae2607757487c",
       "version_major": 2,
       "version_minor": 0
      },
      "text/plain": [
       "  0%|          | 0/50 [00:00<?, ?it/s]"
      ]
     },
     "metadata": {},
     "output_type": "display_data"
    },
    {
     "name": "stdout",
     "output_type": "stream",
     "text": [
      "8     3\n",
      "10    3\n",
      "13    3\n",
      "12    2\n",
      "Name: pred_ind, dtype: int64\n",
      "('Mining and exploration firm Korab Resources has secured all permits required to develop a new phosphate mine in Australia.  Korab claims that the new phosphate mine at the Geolsec project has some of the best logistics and basic infrastructure of any rock phosphate project in Australia.  The mine is situated 2km from Batchelor town, about 70km south from the port of Darwin, which is the capital of the Northern Territory. Korab noted that it had started negotiations with users of rock phosphate, fertilisers and soil improvement products as well as with distributors and contractors providing aerial application services of fertilisers and soil improvement products in the Northern Territory, Western Australia and Eastern States.  The start-up costs of the mine are low because of its geology and location and the company anticipates that it will cost less than $300,000 to begin production of the direct application phosphate fertiliser. Korab had previously announced high-grade assays from the phosphate deposit at about 39% phosphorous.  The company said the rock is highly reactive making it ideal for direct application to acidic soils, which are common along Australian coastline.  Korab expects that operating costs of the mine will be under $100 per tonne of rock, giving the company a high profit margin.  Korab operates various development projects in Ukraine, Western Australia and the Northern Territory, where it intends to produce gold, phosphate rock and magnesium.  The companyâ€™s developments include Bobrikovo gold and silver project in Ukraine, Winchester deposit and Geol Sec rock phosphate deposit. ', {'10': 0, '13': 0, '8': 1, '12': 0})\n"
     ]
    },
    {
     "data": {
      "application/vnd.jupyter.widget-view+json": {
       "model_id": "aa3a6119f0c34611a655c99aff569be5",
       "version_major": 2,
       "version_minor": 0
      },
      "text/plain": [
       "  0%|          | 0/11 [00:00<?, ?it/s]"
      ]
     },
     "metadata": {},
     "output_type": "display_data"
    }
   ],
   "source": [
    "train_docs,train_data = make_docs('test_textcat_project/textcat_data/training_data.csv')\n",
    "# then we save it in .spacy verion on disc\n",
    "doc_bin = DocBin(docs=train_docs)\n",
    "doc_bin.to_disk(\"test_textcat_project/textcat_data/textcat_train.spacy\")\n",
    "\n",
    "test_docs,test_data = make_docs('test_textcat_project/textcat_data/test_data.csv')\n",
    "# then we save it in .spacy verion on disc\n",
    "doc_bin = DocBin(docs=test_docs)\n",
    "doc_bin.to_disk(\"test_textcat_project/textcat_data/textcat_test.spacy\")"
   ]
  },
  {
   "cell_type": "code",
   "execution_count": 21,
   "metadata": {},
   "outputs": [],
   "source": [
    "#! python -m spacy init fill-config ./test_textcat_project/base_config_multi.cfg ./test_textcat_project/textcat_config_multi.cfg"
   ]
  },
  {
   "cell_type": "code",
   "execution_count": 73,
   "metadata": {},
   "outputs": [
    {
     "name": "stdout",
     "output_type": "stream",
     "text": [
      "ℹ Saving to output directory: test_textcat_project\n",
      "ℹ Using CPU\n",
      "\u001b[1m\n",
      "=========================== Initializing pipeline ===========================\u001b[0m\n",
      "✔ Initialized pipeline\n",
      "\u001b[1m\n",
      "============================= Training pipeline =============================\u001b[0m\n",
      "ℹ Pipeline: ['textcat']\n",
      "ℹ Initial learn rate: 0.001\n",
      "E    #       LOSS TEXTCAT  CATS_SCORE  SCORE \n",
      "---  ------  ------------  ----------  ------\n",
      "  0       0          0.06       25.00    0.25\n",
      "  4     200         12.50       25.00    0.25\n",
      "  9     400         12.50       25.00    0.25\n",
      " 14     600         12.50       25.00    0.25\n",
      " 19     800         12.50       25.00    0.25\n",
      " 24    1000         12.50       25.00    0.25\n",
      " 28    1200         12.50       25.00    0.25\n",
      " 33    1400         12.50       25.00    0.25\n",
      " 38    1600         12.50       25.00    0.25\n",
      "✔ Saved pipeline to output directory\n",
      "test_textcat_project\\model-last\n"
     ]
    },
    {
     "name": "stderr",
     "output_type": "stream",
     "text": [
      "[2023-07-03 16:43:33,747] [INFO] Set up nlp object from config\n",
      "[2023-07-03 16:43:33,762] [INFO] Pipeline: ['textcat']\n",
      "[2023-07-03 16:43:33,766] [INFO] Created vocabulary\n",
      "[2023-07-03 16:43:33,767] [INFO] Finished initializing nlp object\n",
      "[2023-07-03 16:43:34,316] [INFO] Initialized pipeline components: ['textcat']\n"
     ]
    }
   ],
   "source": [
    "! python -m spacy train test_textcat_project/textcat_config.cfg --output ./test_textcat_project --paths.train test_textcat_project/textcat_data/textcat_train.spacy --paths.dev test_textcat_project/textcat_data/textcat_test.spacy"
   ]
  },
  {
   "cell_type": "code",
   "execution_count": 74,
   "metadata": {},
   "outputs": [
    {
     "name": "stdout",
     "output_type": "stream",
     "text": [
      "Text: Kingsgate Consolidated has completed a definitive feasibility study (DFS) at its Nueva Esperanza silver-gold heap leach project in Chile, which concluded that the development would require a capital cost of $140m.  The Nueva Esperanza project consists of three deposits, Arqueros, Teterita and Chimberos, located in northern Chile.  Kingsgate said that the DFS is based on a three million tonnes (Mt) a year heap leach operation with on-site power generation. The company intends to bring the project into production and create an operating base to identify additional areas of mineralisation within the current exploration license areas. The DFS found that the project is estimated to produce about 7.5 million ounces (Moz) a year of silver equivalent, based on the current reserves of 17.1Mt grading at 97g per tonne of silver and 0.27g per tonne of gold.  Based on the anticipated metallurgical recovery factors from test work to date, the projectâ€™s planned production is expected to be 40Moz of silver and 112,500oz of gold over an initial mine life of six years. Kingsgate Consolidated managing director and CEO Gavin Thomas said the company remains optimistic about the mineral endowment of the immediate vicinity, which has the potential to provide it with a long, sustainable operating presence in this region.  \"The decision to begin construction is anticipated in the second half of this year and will put Kingsgate back on a growth path and validate the underlying value of the project acquisition,\" Thomas said.  Site works are planned to start after this winter, while first production at Nueva Esperanza is anticipated for the first half of 2016.  Kingsgate said negotiations are underway with potential debt financers, with several options being considered to fund the project. \n",
      "Orig Cat: 8\n",
      " Predicted Cats:\n",
      "{'10': 0.25, '13': 0.25, '8': 0.25, '12': 0.25}\n",
      "=========================================================\n",
      "Text: Just-food Magazine brings together the leading industry website just-food.com and our magazine formerly known as Inside Food. We've combined our products and our editorial teams under the just-food brand to create an even better resource for food industry professionals  - packed with business insights, market analysis and views from leading industry experts, as well as the latest in product development, ingredients and technology. Whether youâ€™re on a desktop, tablet or smartphone, you can read the magazine online for free. Subscribe to be notified when a new issue is available. Issue 35 | February 2020 In this issue: Developments of cultivated meat & dairy in the US, uncertainty around CBD products and much more. Yearbook Issue | December 2019 In this issue: The biggest stories in food and beverages from across 2019. Issue 33 | October 2019 In this issue: The biscuits industry's balance of health and indulgence, Grenadeâ€™s sports nutrition ambitions, the future of sugar alternatives and more. Issue 32 | August 2019 In this issue: The struggle against labour abuses in food production, whether meat alternatives can live up to the hype, Brexit's impact on food trademarks, and more. Issue 31 | June 2019 In this issue: Indigenous food systems, the challenges of the cultured meat market, probiotics as a mental health aid, and more. Issue 30 | April 2019 In this issue: The environmental impact of palm oil, what nanotechnology means for nutrition, examining edible insects' sustainability, and more. Issue 29 | February 2019 In this issue: How the industry is working to combat fruit waste, trends shaping the year ahead, the consumer desire for authentic brand engagement and comforting products, and more. Yearbook 2018 In this issue: The best of food and beverages in 2018. Issue 28 | December 2018 In this issue: Product transparency, hemp's growing popularity, prebiotics and probiotics' development as ingredients, and much more Issue 27 | October 2018 In this issue: Managing protein in vegan diets, functional foods 'added value', the Pret a Manger inquest, and much more. Issue 26 | August 2018 In the latest issue of Inside Food we look at snack innovation within the cheese sector, find out more about food allergies and much more. Issue 25 | June 2018 In the latest issue of Inside Food we look at the free-from market, shine the spotlight on stevia and much more. Issue 24 | April 2018 In the latest issue of Inside Food we look at the savoury snack market, shine the spotlight on avocados and much more. Issue 23 | January 2018 In the latest issue of Inside Food we look at the rise in product recalls, the decline of the bee population and much more.  $('#cta-sub').click(function() { location.reload(); });  Whether you want to increase brand awareness, deliver a complex message or launch a new product, our online magazine provides a creative medium to communicate effectively with your audience. Reach your audience  - delivered directly to 70,000 industry professionals inboxes and be seen by our online community of 105,000 visitors every month.Rich digital content  - enables you to provide innovative content and features to engage your reader more with your brand.Editorial focused advertorial content  - giving you the opportunity to communicate a more detailed message. Direct response  - embedded links in adverts enable you to measure responses and generate new leads through a high profile advertising medium. We offer one of the most varied and competitive price plans available today. Select from an array of creative and flexible solutions across a range of media to meet your specific needs. Full Page Advertisements A full page advertisement that fills the screen of all readers of the online magazine is a fantastic way to improve customer loyalty and build a stronger brand with strong visual images, text and embedded links. Furthermore, you can enhance this advertisement with both animation and video, to further excite and engage our readership. Advertorial Content Our online magazines also offer the unique opportunity for you to utilise the most effective mechanism for delivering dynamic, creative and in-depth content. Our advertorial content opportunities offer you to chance to work directly with our editorial team to create the perfect combination of company or product overview and brand promotion delivered to our users in the power-technology.com house style they know and trust. Get important industry news and analysis sent to your inbox  - sign up to our e-Newsletter here  Flexible packaging manufacturer Pro Ampac has unveiled an updated range of child-resistant, reclosable, easy-open (CRREO) pouches in an expanded range ofâ€¦Read Moreâ€¦\n",
      " Orig Cat:10\n",
      " Predicted Cats:\n",
      "{'10': 0.25, '13': 0.25, '8': 0.25, '12': 0.25}\n"
     ]
    }
   ],
   "source": [
    "nlp_textcat = spacy.load('test_textcat_project/model-best')\n",
    "test_texts = test_data['content'].tolist()\n",
    "test_cats = test_data['pred_ind'].tolist()\n",
    "\n",
    "doc2 = nlp_textcat(test_texts[0])\n",
    "print(\"Text: \"+ test_texts[0])\n",
    "print(\"Orig Cat: \" + str(test_cats[0]))\n",
    "print(\" Predicted Cats:\") \n",
    "print(doc2.cats)\n",
    "print(\"=========================================================\")\n",
    "doc2 = nlp_textcat(test_texts[5])\n",
    "print(\"Text: \"+ test_texts[5])\n",
    "print(\" Orig Cat:\"+ str(test_cats[5]))\n",
    "print(\" Predicted Cats:\") \n",
    "print(doc2.cats)"
   ]
  }
 ],
 "metadata": {
  "kernelspec": {
   "display_name": "Python 3",
   "language": "python",
   "name": "python3"
  },
  "language_info": {
   "codemirror_mode": {
    "name": "ipython",
    "version": 3
   },
   "file_extension": ".py",
   "mimetype": "text/x-python",
   "name": "python",
   "nbconvert_exporter": "python",
   "pygments_lexer": "ipython3",
   "version": "3.10.11"
  },
  "orig_nbformat": 4
 },
 "nbformat": 4,
 "nbformat_minor": 2
}
